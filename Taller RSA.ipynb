{
 "cells": [
  {
   "cell_type": "markdown",
   "metadata": {},
   "source": [
    "# Matematicas Discretas\n",
    "\n",
    "### Taller Algoritmo RSA\n",
    "\n",
    "Introducción\n",
    "\n",
    "El algoritmo RSA es software de criptografia que aplica aritmetica modular para implementar un sistema de encriptación de llave publica, es decir, us sistema en donde caulquiera pude enviar mensajes, pero solo quien sea dueño del mensaje tiene la información necesaria para facilmente realizar las operaciones computacionales para de codificar el mensaje\n",
    "Conceptos utilizados\n",
    "\n",
    "\n",
    "Razonamiento detras de la implementación llaves compuestas de dos partes, la parte publica y la parte privada\n",
    "Referencias\n",
    "\n",
    "JonCooperWorks/rsa.py\n",
    "\n",
    "https://gist.github.com/JonCooperWorks/5314103\n"
   ]
  },
  {
   "cell_type": "markdown",
   "metadata": {},
   "source": [
    "El método de cifrado de clave pública que presentamos aquí es el RSAcryptosystem. El nombre se deriva de las iniciales de sus inventores, Rivest, Shamir y Adleman, quienes desarrollaron el sistema en 1977. RSA se usa actualmente en muchas aplicaciones, incluidos teléfonos, tarjetas inteligentes y comunicaciones seguras de Internet. En el criptosistema RSA, dos números primos grandes, que se mantienen en secreto, se utilizan para generar una clave de cifrado y una clave de descifrado. La clave de cifrado se hace pública, mientras que la clave de descifrado se entrega solo a las personas que están autorizadas a tenerla. Sin conocer los dos números primos, no hay una forma factible de determinar la clave de descifrado.\n"
   ]
  },
  {
   "cell_type": "code",
   "execution_count": null,
   "metadata": {},
   "outputs": [],
   "source": [
    "'''\n",
    "620031587\n",
    "Net-Centric Computing Assignment\n",
    "Part A - RSA Encryption\n",
    "'''\n",
    "\n",
    "import random\n",
    "\n",
    "\n",
    "'''\n",
    "Euclid's algorithm for determining the greatest common divisor\n",
    "Use iteration to make it faster for larger integers\n",
    "'''\n",
    "def gcd(a, b):\n",
    "    while b != 0:\n",
    "        a, b = b, a % b\n",
    "    return a\n",
    "\n",
    "'''\n",
    "Euclid's extended algorithm for finding the multiplicative inverse of two numbers\n",
    "'''\n",
    "def multiplicative_inverse(e, phi):\n",
    "    d = 0\n",
    "    x1 = 0\n",
    "    x2 = 1\n",
    "    y1 = 1\n",
    "    temp_phi = phi\n",
    "    \n",
    "    while e > 0:\n",
    "        temp1 = temp_phi/e\n",
    "        temp2 = temp_phi - temp1 * e\n",
    "        temp_phi = e\n",
    "        e = temp2\n",
    "        \n",
    "        x = x2- temp1* x1\n",
    "        y = d - temp1 * y1\n",
    "        \n",
    "        x2 = x1\n",
    "        x1 = x\n",
    "        d = y1\n",
    "        y1 = y\n",
    "    \n",
    "    if temp_phi == 1:\n",
    "        return d + phi\n",
    "\n",
    "'''\n",
    "Tests to see if a number is prime.\n",
    "'''\n",
    "def is_prime(num):\n",
    "    if num == 2:\n",
    "        return True\n",
    "    if num < 2 or num % 2 == 0:\n",
    "        return False\n",
    "    for n in xrange(3, int(num**0.5)+2, 2):\n",
    "        if num % n == 0:\n",
    "            return False\n",
    "    return True\n",
    "\n",
    "def generate_keypair(p, q):\n",
    "    if not (is_prime(p) and is_prime(q)):\n",
    "        raise ValueError('Both numbers must be prime.')\n",
    "    elif p == q:\n",
    "        raise ValueError('p and q cannot be equal')\n",
    "    #n = pq\n",
    "    n = p * q\n",
    "\n",
    "    #Phi is the totient of n\n",
    "    phi = (p-1) * (q-1)\n",
    "\n",
    "    #Choose an integer e such that e and phi(n) are coprime\n",
    "    e = random.randrange(1, phi)\n",
    "\n",
    "    #Use Euclid's Algorithm to verify that e and phi(n) are comprime\n",
    "    g = gcd(e, phi)\n",
    "    while g != 1:\n",
    "        e = random.randrange(1, phi)\n",
    "        g = gcd(e, phi)\n",
    "\n",
    "    #Use Extended Euclid's Algorithm to generate the private key\n",
    "    d = multiplicative_inverse(e, phi)\n",
    "    \n",
    "    #Return public and private keypair\n",
    "    #Public key is (e, n) and private key is (d, n)\n",
    "    return ((e, n), (d, n))\n",
    "\n",
    "def encrypt(pk, plaintext):\n",
    "    #Unpack the key into it's components\n",
    "    key, n = pk\n",
    "    #Convert each letter in the plaintext to numbers based on the character using a^b mod m\n",
    "    cipher = [(ord(char) ** key) % n for char in plaintext]\n",
    "    #Return the array of bytes\n",
    "    return cipher\n",
    "\n",
    "def decrypt(pk, ciphertext):\n",
    "    #Unpack the key into its components\n",
    "    key, n = pk\n",
    "    #Generate the plaintext based on the ciphertext and key using a^b mod m\n",
    "    plain = [chr((char ** key) % n) for char in ciphertext]\n",
    "    #Return the array of bytes as a string\n",
    "    return ''.join(plain)\n",
    "    \n",
    "\n",
    "if __name__ == '__main__':\n",
    "    '''\n",
    "    Detect if the script is being run directly by the user\n",
    "    '''\n",
    "    print \"RSA Encrypter/ Decrypter\"\n",
    "    p = int(raw_input(\"Enter a prime number (17, 19, 23, etc): \"))\n",
    "    q = int(raw_input(\"Enter another prime number (Not one you entered above): \"))\n",
    "    print \"Generating your public/private keypairs now . . .\"\n",
    "    public, private = generate_keypair(p, q)\n",
    "    print \"Your public key is \", public ,\" and your private key is \", private\n",
    "    message = raw_input(\"Enter a message to encrypt with your private key: \")\n",
    "    encrypted_msg = encrypt(private, message)\n",
    "    print \"Your encrypted message is: \"\n",
    "    print ''.join(map(lambda x: str(x), encrypted_msg))\n",
    "    print \"Decrypting message with public key \", public ,\" . . .\"\n",
    "    print \"Your message is:\"\n",
    "    print decrypt(public, encrypted_msg)"
   ]
  },
  {
   "cell_type": "markdown",
   "metadata": {},
   "source": [
    "\n",
    "Aquí están los detalles del sistema RSA. Como cualquier dato, un mensaje está representado en una computadora como una cadena de bits. Dicha cadena se puede dividir en subcadenas, cada una de la misma longitud que la representación de un entero asignado en la computadora. Por lo tanto, un mensaje puede interpretarse como la representación por computadora de una lista de enteros sin signo, por lo que podemos pensar en el mensaje en sí como una lista de enteros sin signo. Por la misma razón, el mensaje encriptado también se puede tratar como una lista de enteros sin firmar. La función de cifrado RSA, f, que estamos a punto de describir, tiene para su dominio y codominio un conjunto de enteros sin signo hasta un valor dado. Antes de que se puedan enviar mensajes, la persona que recibirá los mensajes selecciona dos números primos, p&q. En la práctica, p&q debe ser grande (cientos de dígitos cada uno) para que el sistema sea seguro. Sin embargo, en aras de la ilustración, utilizaremos dos números primos pequeños, p = 17 y q = 23. Dado n =p*q , y dado m = (p– 1) (q– 1). En nuestro ejemplo, $n = 17 × 23 = 391$ y $m = 16 × 22 = 352$. Ahora necesitamos encontrar dos enteros, x & y, de modo que ambos x&y sean coprimos con m y $ xy \\equiv 1mod $. Suponemos que hay cualquier número que sea primo dentro de ellos, y luego resolvemos la ecuación modular. Para este ejemplo, tomaremos x = 29. Entonces la ecuación modular es:"
   ]
  },
  {
   "cell_type": "markdown",
   "metadata": {},
   "source": [
    "\n",
    "<center>$29\\equiv1 mod352$\n"
   ]
  },
  {
   "cell_type": "markdown",
   "metadata": {},
   "source": [
    "Asi mismo 352k = 29y -1, para cualquier k, entonces 352k -29y = -1 . Ahora resolvemos la ecuacion utilizando el algoritmo de Euclides  "
   ]
  },
  {
   "cell_type": "markdown",
   "metadata": {},
   "source": [
    "<center>$352 = 12*29 +4 $\n",
    "<center>\n",
    "$28 = 7*4 +1 $\n",
    "<center>\n",
    "$4 = 4*1  $"
   ]
  },
  {
   "cell_type": "markdown",
   "metadata": {},
   "source": [
    "<center>$1 = 29 - 7 *4$\n",
    "<center>\n",
    "$= 29-7(352-12*29)$\n",
    "<center>\n",
    "$= 85*29-7*352$\n",
    "<center>\n",
    "$= 352*(-7)-29*(-85)$\n",
    "<center>\n",
    "Asi x=7 & y=85\n",
    "<center>"
   ]
  },
  {
   "cell_type": "markdown",
   "metadata": {},
   "source": [
    "Los números xy son las claves de cifrado y descifrado respectivamente. El valor de x, junto con el de n, se hace público, mientras que el valor de y es conocido solo por la persona que va a recibir los mensajes. Como ya hemos señalado, un mensaje puede considerarse como una secuencia de enteros no firmados. Ahora suponemos que esto se ha hecho de una manera que garantiza que cada número entero en el mensaje sea menor que n. La clave de cifrado, x, se usa para cifrar cada número entero, a, para obtener un número entero cifrado, $f (a)$, usando la fórmula:"
   ]
  },
  {
   "cell_type": "markdown",
   "metadata": {},
   "source": [
    "<center>$f(a)= (a^x) mod n$"
   ]
  },
  {
   "cell_type": "markdown",
   "metadata": {},
   "source": [
    "En el presente ejemplo, suponga que el mensaje es el entero 247. Para llevar a cabo el cifrado, necesitamos evaluar $247^{29} mod391$. El cálculo se realiza mejor en una computadora que ha sido programada para ejecutarlo. Alternativamente, se puede usar una calculadora, pero el cálculo es tedioso incluso cuando los números son bastante pequeños, como lo son en el ejemplo actual. El cálculo se ejecuta de la siguiente manera:"
   ]
  },
  {
   "cell_type": "markdown",
   "metadata": {},
   "source": [
    "<center>$247^2 = 61009 \\equiv 13 mod391$\n",
    "<center>$247^4 \\equiv 13^2 \\equiv 169 mod391$\n",
    "<center>$247^8 \\equiv 169^2=28561 \\equiv 18 mod391$\n",
    "<center>$247^{16} \\equiv 13^8 \\equiv 324 mod391$  \n",
    "<center>$247^{29} \\equiv 13^{16+8+4+1}= 243445176 \\equiv 365 mod391$  "
   ]
  },
  {
   "cell_type": "markdown",
   "metadata": {},
   "source": [
    "El mensaje cifrado es 365. Observe que redujimos el módulo de números 391 en cada paso en lugar de solo al final, para evitar que se produzca un desbordamiento de enteros. Observe también cómo redujimos la cantidad de cálculo requerida al expresar 29 como una suma de potencias de 2, y al usar la cuadratura repetida."
   ]
  }
 ],
 "metadata": {
  "celltoolbar": "Raw Cell Format",
  "kernelspec": {
   "display_name": "Python 3",
   "language": "python",
   "name": "python3"
  },
  "language_info": {
   "codemirror_mode": {
    "name": "ipython",
    "version": 3
   },
   "file_extension": ".py",
   "mimetype": "text/x-python",
   "name": "python",
   "nbconvert_exporter": "python",
   "pygments_lexer": "ipython3",
   "version": "3.8.3"
  }
 },
 "nbformat": 4,
 "nbformat_minor": 4
}
