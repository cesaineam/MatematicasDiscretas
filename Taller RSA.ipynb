{
 "cells": [
  {
   "cell_type": "markdown",
   "metadata": {},
   "source": [
    "# Matematicas Discretas\n",
    "\n",
    "# Taller Algoritmo RSA\n",
    "\n",
    "Introducción\n",
    "\n",
    "El algoritmo RSA es software de criptografia que aplica aritmetica modular para implementar un sistema de encriptación de llave publica, es decir, us sistema en donde caulquiera pude enviar mensajes, pero solo quien sea dueño del mensaje tiene la información necesaria para facilmente realizar las operaciones computacionales para de codificar el mensaje\n",
    "Conceptos utilizados\n",
    "\n",
    "Euclid's algorithm Euclid's extended algorithm Tests to see if a number is prime PHI function\n",
    "Razonamiento detras de la implementación\n",
    "\n",
    "llaves compuestas de dos partes, la parte publica y la parte privada\n",
    "Referencias\n",
    "\n",
    "JonCooperWorks/rsa.py\n",
    "\n",
    "https://gist.github.com/JonCooperWorks/5314103\n"
   ]
  },
  {
   "cell_type": "code",
   "execution_count": 2,
   "metadata": {},
   "outputs": [
    {
     "name": "stdout",
     "output_type": "stream",
     "text": [
      "hola tods\n"
     ]
    }
   ],
   "source": [
    "print(\"hola todos\")"
   ]
  },
  {
   "cell_type": "code",
   "execution_count": 3,
   "metadata": {},
   "outputs": [
    {
     "name": "stdout",
     "output_type": "stream",
     "text": [
      "la 3\n"
     ]
    }
   ],
   "source": [
    "print(\"la 3\")"
   ]
  },
  {
   "cell_type": "code",
   "execution_count": null,
   "metadata": {},
   "outputs": [],
   "source": []
  }
 ],
 "metadata": {
  "kernelspec": {
   "display_name": "Python 3",
   "language": "python",
   "name": "python3"
  },
  "language_info": {
   "codemirror_mode": {
    "name": "ipython",
    "version": 3
   },
   "file_extension": ".py",
   "mimetype": "text/x-python",
   "name": "python",
   "nbconvert_exporter": "python",
   "pygments_lexer": "ipython3",
   "version": "3.8.3"
  }
 },
 "nbformat": 4,
 "nbformat_minor": 4
}
